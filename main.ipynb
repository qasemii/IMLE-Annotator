{
  "cells": [
    {
      "cell_type": "markdown",
      "metadata": {
        "id": "JxufHawUnjm5"
      },
      "source": [
        "# An End-to-End Approach for Extracting Rationales for NLP Tasks\n",
        "Inspired by [Implicit MLE: Backpropagating Through Discrete Exponential Family Distributions\n",
        "](https://arxiv.org/abs/2106.01798)\n",
        "\n",
        "## Mohammad Reza Ghasemi Madani - 0001034307\n",
        "mohammadreza.ghasemi@studio.unibo.it\n",
        "\n",
        "## Code\n",
        "https://github.com/qasemii/IMLE-Annotator.git"
      ]
    },
    {
      "cell_type": "markdown",
      "metadata": {
        "id": "BA-NBK0Jniqs"
      },
      "source": [
        "## Abstract\n",
        "The integration of discrete algorithmic components in deep learning architectures has numerous applications but poses several challenges. Implicit Maximum Likelihood Estimation (I-MLE) is a framework for end-to-end learning of models combining discrete exponential family distributions and differentiable neural components. I-MLE is widely applicable as it only requires the ability to compute the most probable states and does not rely on smooth relaxations. Several application domains, ranging from relational and explainable ML to discrete decision-making could benefit from general-purpose learning algorithms whose inductive biases are more amenable to integrating symbolic and neural computation. One other field of research related to this subject is Explainable Natural Language Processing (ExNLP). ExNLP has increasingly focused on collecting human-annotated textual explanations. These explanations are used downstream in three ways: as data augmentation to improve performance on a predictive task, as supervision to train models to produce explanations for their predictions, and as a ground-truth to evaluate model-generated explanations. Considering what we discussed above, in this research, we will explore a method that returns the output and the reasoning approach behind which must be close to humans as much as possible for a given textual input and a goal. In other words, we want the designed machine to choose the same highlights as humans in a text."
      ]
    },
    {
      "cell_type": "markdown",
      "source": [
        "## Introduction\n",
        "\n",
        "Neural Language Models have achieved the state-of-the-art performance in many tasks such as Sentiment Analysis, Natural Language Inference, Question Answering, etc.\n",
        "\n",
        "<img src=\"https://github.com/qasemii/IMLE-Annotator/blob/main/images/examples.png?raw=true\" width=1000>\n",
        "\n",
        "However, there is a key missing, and that is the reasoning behind decision-making process. In many critical areas such as medical science, it is important to make sure the reasoning behind the decision is logical and based on key features.\n",
        "\n",
        "<img src=\"https://github.com/qasemii/IMLE-Annotator/blob/main/images/drawback.png?raw=true\" width=600>\n",
        "\n",
        "In order for machine learning to garner widespread public adoption, models must be able to provide interpretable and robust explanations for their decisions, as well as learn from human-provided explanations at train time.\n",
        "\n",
        "In this work we will utilize a method known as I-MLE (Implicit Maximum Likelihood Estimation) to handle backpropagation through discrete latent space and integrate them into deep learning models. More precisely, we are going to select *k*-subsets from the textual input that shows the selected words by machine to produce the output. We will go through a base model to see the baseline outputs. In the following, we use pre-trained models (e.g. BERT and/or its variances) to improve the results. The final aim of this research is to reach human reasoning patterns on textual input.\n"
      ],
      "metadata": {
        "id": "HxRH5ItrKGqt"
      }
    },
    {
      "cell_type": "markdown",
      "source": [
        "## Types of Explanations\n",
        "\n",
        "There are two types of explanations, namely:\n",
        "1. **Extractive Rationales (ERs)**: A subset of input features responsible for a prediction.\n",
        "\n",
        "2. **Natural Language Explanations (NLEs)**: Human-readable justification for predictions.\n",
        "\n",
        "The following figure shows an example of each type for a give instance from e-SNLI dataset.\n",
        "\n",
        "<img src=\"https://github.com/qasemii/IMLE-Annotator/blob/main/images/explanation_types.png?raw=true\" width=500>\n"
      ],
      "metadata": {
        "id": "uoaXIVVuRCSl"
      }
    },
    {
      "cell_type": "markdown",
      "source": [
        "## Extractive Rationale Criteria\n",
        "\n",
        "In order to achieve high-quality ratioales, there are three criteria that a model should preserve:\n",
        "\n",
        "1. **Plausibility**: This means that the rationales should make sense to humans. In the contect of extractive rationales, it is computed by simply measuring the corrolation between gold rationales and extracted ones.\n",
        "2. **Task Performance**: It refers to the fact that the rationale extraction should not compromise the task performance."
      ],
      "metadata": {
        "id": "iHIgini1RwgR"
      }
    },
    {
      "cell_type": "markdown",
      "source": [
        "## A Problem with a Common Pipeline\n",
        "\n",
        "One of the most utilized pipelines in this field is Select-Predict-Pipelines (SPPs). SPPs are composed of two elements:\n",
        "\n",
        "1. **Rationale Extractor**: responsible for scoring and extracting the most important tokens.\n",
        "2. **Task Model**: responsible for solving the task based on the extracted rationales.\n",
        "\n",
        "<img src=\"https://github.com/qasemii/IMLE-Annotator/blob/main/images/spp.png?raw=true\" width=1000>\n",
        "\n",
        "These architectures suffer from two main drawbacks:\n",
        "\n",
        "1. Task Model only receive partial input ---> Sacrifies task performance\n",
        "2. Loss cannot back propagate through Rationale Extractor ---> No end-to-end training\n",
        "\n",
        "And the training follows the steps below:\n",
        "\n",
        "1. Train Rationale Extractor on inputs/gold rationales\n",
        "2. Train Task Model on gold rationales/labels\n",
        "3. Concatenate them and evaluate\n",
        "\n"
      ],
      "metadata": {
        "id": "hhFx9V4GS3Cy"
      }
    },
    {
      "cell_type": "markdown",
      "source": [
        "## SPP + I-MLE\n",
        "\n",
        "Using I-MLE within SPP pipeline, enables backpropagating loss form task model through the rationale extraction and allow us to train the model in an end-to-end approach. This, results in interaction between task model and rationale extractor, therefore more balanced performance regarding the proposed criteria (plausibility and task performance).\n",
        "\n",
        "The following figure shows the structure of the proposed End-to-End architecture. The discrete function can be anything in general. We leave the detaied discussion of the I-MLE procedure behind as it requires deep discussion.\n",
        "\n",
        "<img src=\"https://github.com/qasemii/IMLE-Annotator/blob/main/images/spp-imle.png?raw=true\" width=1000>\n",
        "\n",
        "Advantages of the proposed pipeline:\n",
        "\n",
        "1. Make discrete latent space differentiable\n",
        "2. Simple to use (just a decorator on top of discrete function, e.g. top-k selector)\n",
        "\n",
        "**!!! NOTE**: the task model still only sees a small portion of the input (depends on the number of tokens user wants the model to select) and this causes decrease in the task performance."
      ],
      "metadata": {
        "id": "FoM3PyONU9gr"
      }
    },
    {
      "cell_type": "markdown",
      "source": [
        "## Datasets\n",
        "\n",
        "- **BeerAdvocate**:\n",
        "\n",
        "    The BeerAdvocate dataset is a collection of beer reviews from the website BeerAdvocate.com. The dataset contains over 1.5 million reviews of more than 66,000 beers from more than 13,000 breweries. Each review consists of a rating (from 1 to 5), a text review, and some additional information such as the beer name, style, ABV (alcohol by volume), and reviewer profile. The dataset can be used for various natural language processing tasks such as sentiment analysis, text summarization, topic modeling, or rationale extraction.\n",
        "\n",
        "- **e-SNLI**:\n",
        "    \n",
        "    The e-SNLI dataset is an extension of the SNLI dataset, which is a collection of sentence pairs labeled with one of three categories: entailment, contradiction, or neutral. The e-SNLI dataset adds human-written explanations for each label, as well as some additional information such as the source of the sentences and the annotator ID. The dataset contains over 550,000 sentence pairs with explanations. The dataset can be used for various natural language processing tasks such as natural language inference, explanation generation, or rationale extraction."
      ],
      "metadata": {
        "id": "rLdlZ2nlIzI2"
      }
    },
    {
      "cell_type": "markdown",
      "source": [
        "## Objective\n",
        "\n",
        "As an experiment, we firstly deploy our algorithm to the `BeerAdvocate` dataset which consists of free-text reviews and ratings for 4 different aspects of beer: appearance, aroma, palate, and taste. Each sentence in the test set has annotations providing the words that best describe the various aspects. Following the experimental setup of recent works, we address the problem introduced by the L2X paper of learning a distribution over *k*-subsets of words that best explain a given aspect rating. Then we employ pre-traind models together with I-MLE algorithm to learn a distribution over *k*-subsets of words that best explain a given aspect rating. As an extension we employ `e-SNLI` to see the results on different domains. Finaly, we reaplace the previous neural network with `BERT` transformer from `HuggingFace` and investigate the output.\n"
      ],
      "metadata": {
        "id": "Lxd5Bv7tJWcG"
      }
    },
    {
      "cell_type": "markdown",
      "source": [
        "## Run"
      ],
      "metadata": {
        "id": "lk3zmlVKT2-J"
      }
    },
    {
      "cell_type": "markdown",
      "source": [
        "Installing dependencies. We utilized `WANDB` as logger. To use it, you will need an account in their website [here](https://wandb.ai/site). You can simply deactivate it by putting `WANDB_MODE=disabled` at the beginning of each run command line (this has been set by default)."
      ],
      "metadata": {
        "id": "rGFchOzdVrUd"
      }
    },
    {
      "cell_type": "code",
      "source": [
        "!pip install wandb torchmetrics datasets evaluate transformers"
      ],
      "metadata": {
        "id": "nopOrtLyT2LC",
        "collapsed": true,
        "colab": {
          "base_uri": "https://localhost:8080/"
        },
        "outputId": "c1a4573e-7090-438b-e7aa-35999c0a3ee6"
      },
      "execution_count": null,
      "outputs": [
        {
          "output_type": "stream",
          "name": "stdout",
          "text": [
            "Collecting wandb\n",
            "  Downloading wandb-0.16.1-py3-none-any.whl (2.1 MB)\n",
            "\u001b[2K     \u001b[90m━━━━━━━━━━━━━━━━━━━━━━━━━━━━━━━━━━━━━━━━\u001b[0m \u001b[32m2.1/2.1 MB\u001b[0m \u001b[31m7.3 MB/s\u001b[0m eta \u001b[36m0:00:00\u001b[0m\n",
            "\u001b[?25hCollecting torchmetrics\n",
            "  Downloading torchmetrics-1.2.1-py3-none-any.whl (806 kB)\n",
            "\u001b[2K     \u001b[90m━━━━━━━━━━━━━━━━━━━━━━━━━━━━━━━━━━━━━━━━\u001b[0m \u001b[32m806.1/806.1 kB\u001b[0m \u001b[31m27.4 MB/s\u001b[0m eta \u001b[36m0:00:00\u001b[0m\n",
            "\u001b[?25hCollecting datasets\n",
            "  Downloading datasets-2.15.0-py3-none-any.whl (521 kB)\n",
            "\u001b[2K     \u001b[90m━━━━━━━━━━━━━━━━━━━━━━━━━━━━━━━━━━━━━━━━\u001b[0m \u001b[32m521.2/521.2 kB\u001b[0m \u001b[31m31.8 MB/s\u001b[0m eta \u001b[36m0:00:00\u001b[0m\n",
            "\u001b[?25hCollecting evaluate\n",
            "  Downloading evaluate-0.4.1-py3-none-any.whl (84 kB)\n",
            "\u001b[2K     \u001b[90m━━━━━━━━━━━━━━━━━━━━━━━━━━━━━━━━━━━━━━━━\u001b[0m \u001b[32m84.1/84.1 kB\u001b[0m \u001b[31m7.9 MB/s\u001b[0m eta \u001b[36m0:00:00\u001b[0m\n",
            "\u001b[?25hRequirement already satisfied: transformers in /usr/local/lib/python3.10/dist-packages (4.35.2)\n",
            "Requirement already satisfied: Click!=8.0.0,>=7.1 in /usr/local/lib/python3.10/dist-packages (from wandb) (8.1.7)\n",
            "Collecting GitPython!=3.1.29,>=1.0.0 (from wandb)\n",
            "  Downloading GitPython-3.1.40-py3-none-any.whl (190 kB)\n",
            "\u001b[2K     \u001b[90m━━━━━━━━━━━━━━━━━━━━━━━━━━━━━━━━━━━━━━━━\u001b[0m \u001b[32m190.6/190.6 kB\u001b[0m \u001b[31m11.0 MB/s\u001b[0m eta \u001b[36m0:00:00\u001b[0m\n",
            "\u001b[?25hRequirement already satisfied: requests<3,>=2.0.0 in /usr/local/lib/python3.10/dist-packages (from wandb) (2.31.0)\n",
            "Requirement already satisfied: psutil>=5.0.0 in /usr/local/lib/python3.10/dist-packages (from wandb) (5.9.5)\n",
            "Collecting sentry-sdk>=1.0.0 (from wandb)\n",
            "  Downloading sentry_sdk-1.39.1-py2.py3-none-any.whl (254 kB)\n",
            "\u001b[2K     \u001b[90m━━━━━━━━━━━━━━━━━━━━━━━━━━━━━━━━━━━━━━━━\u001b[0m \u001b[32m254.1/254.1 kB\u001b[0m \u001b[31m10.7 MB/s\u001b[0m eta \u001b[36m0:00:00\u001b[0m\n",
            "\u001b[?25hCollecting docker-pycreds>=0.4.0 (from wandb)\n",
            "  Downloading docker_pycreds-0.4.0-py2.py3-none-any.whl (9.0 kB)\n",
            "Requirement already satisfied: PyYAML in /usr/local/lib/python3.10/dist-packages (from wandb) (6.0.1)\n",
            "Collecting setproctitle (from wandb)\n",
            "  Downloading setproctitle-1.3.3-cp310-cp310-manylinux_2_5_x86_64.manylinux1_x86_64.manylinux_2_17_x86_64.manylinux2014_x86_64.whl (30 kB)\n",
            "Requirement already satisfied: setuptools in /usr/local/lib/python3.10/dist-packages (from wandb) (67.7.2)\n",
            "Requirement already satisfied: appdirs>=1.4.3 in /usr/local/lib/python3.10/dist-packages (from wandb) (1.4.4)\n",
            "Requirement already satisfied: protobuf!=4.21.0,<5,>=3.19.0 in /usr/local/lib/python3.10/dist-packages (from wandb) (3.20.3)\n",
            "Requirement already satisfied: numpy>1.20.0 in /usr/local/lib/python3.10/dist-packages (from torchmetrics) (1.23.5)\n",
            "Requirement already satisfied: packaging>17.1 in /usr/local/lib/python3.10/dist-packages (from torchmetrics) (23.2)\n",
            "Requirement already satisfied: torch>=1.8.1 in /usr/local/lib/python3.10/dist-packages (from torchmetrics) (2.1.0+cu121)\n",
            "Collecting lightning-utilities>=0.8.0 (from torchmetrics)\n",
            "  Downloading lightning_utilities-0.10.0-py3-none-any.whl (24 kB)\n",
            "Requirement already satisfied: pyarrow>=8.0.0 in /usr/local/lib/python3.10/dist-packages (from datasets) (10.0.1)\n",
            "Collecting pyarrow-hotfix (from datasets)\n",
            "  Downloading pyarrow_hotfix-0.6-py3-none-any.whl (7.9 kB)\n",
            "Collecting dill<0.3.8,>=0.3.0 (from datasets)\n",
            "  Downloading dill-0.3.7-py3-none-any.whl (115 kB)\n",
            "\u001b[2K     \u001b[90m━━━━━━━━━━━━━━━━━━━━━━━━━━━━━━━━━━━━━━━━\u001b[0m \u001b[32m115.3/115.3 kB\u001b[0m \u001b[31m8.5 MB/s\u001b[0m eta \u001b[36m0:00:00\u001b[0m\n",
            "\u001b[?25hRequirement already satisfied: pandas in /usr/local/lib/python3.10/dist-packages (from datasets) (1.5.3)\n",
            "Requirement already satisfied: tqdm>=4.62.1 in /usr/local/lib/python3.10/dist-packages (from datasets) (4.66.1)\n",
            "Requirement already satisfied: xxhash in /usr/local/lib/python3.10/dist-packages (from datasets) (3.4.1)\n",
            "Collecting multiprocess (from datasets)\n",
            "  Downloading multiprocess-0.70.15-py310-none-any.whl (134 kB)\n",
            "\u001b[2K     \u001b[90m━━━━━━━━━━━━━━━━━━━━━━━━━━━━━━━━━━━━━━━━\u001b[0m \u001b[32m134.8/134.8 kB\u001b[0m \u001b[31m9.9 MB/s\u001b[0m eta \u001b[36m0:00:00\u001b[0m\n",
            "\u001b[?25hRequirement already satisfied: fsspec[http]<=2023.10.0,>=2023.1.0 in /usr/local/lib/python3.10/dist-packages (from datasets) (2023.6.0)\n",
            "Requirement already satisfied: aiohttp in /usr/local/lib/python3.10/dist-packages (from datasets) (3.9.1)\n",
            "Requirement already satisfied: huggingface-hub>=0.18.0 in /usr/local/lib/python3.10/dist-packages (from datasets) (0.19.4)\n",
            "Collecting responses<0.19 (from evaluate)\n",
            "  Downloading responses-0.18.0-py3-none-any.whl (38 kB)\n",
            "Requirement already satisfied: filelock in /usr/local/lib/python3.10/dist-packages (from transformers) (3.13.1)\n",
            "Requirement already satisfied: regex!=2019.12.17 in /usr/local/lib/python3.10/dist-packages (from transformers) (2023.6.3)\n",
            "Requirement already satisfied: tokenizers<0.19,>=0.14 in /usr/local/lib/python3.10/dist-packages (from transformers) (0.15.0)\n",
            "Requirement already satisfied: safetensors>=0.3.1 in /usr/local/lib/python3.10/dist-packages (from transformers) (0.4.1)\n",
            "Requirement already satisfied: six>=1.4.0 in /usr/local/lib/python3.10/dist-packages (from docker-pycreds>=0.4.0->wandb) (1.16.0)\n",
            "Requirement already satisfied: attrs>=17.3.0 in /usr/local/lib/python3.10/dist-packages (from aiohttp->datasets) (23.1.0)\n",
            "Requirement already satisfied: multidict<7.0,>=4.5 in /usr/local/lib/python3.10/dist-packages (from aiohttp->datasets) (6.0.4)\n",
            "Requirement already satisfied: yarl<2.0,>=1.0 in /usr/local/lib/python3.10/dist-packages (from aiohttp->datasets) (1.9.4)\n",
            "Requirement already satisfied: frozenlist>=1.1.1 in /usr/local/lib/python3.10/dist-packages (from aiohttp->datasets) (1.4.0)\n",
            "Requirement already satisfied: aiosignal>=1.1.2 in /usr/local/lib/python3.10/dist-packages (from aiohttp->datasets) (1.3.1)\n",
            "Requirement already satisfied: async-timeout<5.0,>=4.0 in /usr/local/lib/python3.10/dist-packages (from aiohttp->datasets) (4.0.3)\n",
            "Collecting gitdb<5,>=4.0.1 (from GitPython!=3.1.29,>=1.0.0->wandb)\n",
            "  Downloading gitdb-4.0.11-py3-none-any.whl (62 kB)\n",
            "\u001b[2K     \u001b[90m━━━━━━━━━━━━━━━━━━━━━━━━━━━━━━━━━━━━━━━━\u001b[0m \u001b[32m62.7/62.7 kB\u001b[0m \u001b[31m5.9 MB/s\u001b[0m eta \u001b[36m0:00:00\u001b[0m\n",
            "\u001b[?25hRequirement already satisfied: typing-extensions>=3.7.4.3 in /usr/local/lib/python3.10/dist-packages (from huggingface-hub>=0.18.0->datasets) (4.5.0)\n",
            "Requirement already satisfied: charset-normalizer<4,>=2 in /usr/local/lib/python3.10/dist-packages (from requests<3,>=2.0.0->wandb) (3.3.2)\n",
            "Requirement already satisfied: idna<4,>=2.5 in /usr/local/lib/python3.10/dist-packages (from requests<3,>=2.0.0->wandb) (3.6)\n",
            "Requirement already satisfied: urllib3<3,>=1.21.1 in /usr/local/lib/python3.10/dist-packages (from requests<3,>=2.0.0->wandb) (2.0.7)\n",
            "Requirement already satisfied: certifi>=2017.4.17 in /usr/local/lib/python3.10/dist-packages (from requests<3,>=2.0.0->wandb) (2023.11.17)\n",
            "Requirement already satisfied: sympy in /usr/local/lib/python3.10/dist-packages (from torch>=1.8.1->torchmetrics) (1.12)\n",
            "Requirement already satisfied: networkx in /usr/local/lib/python3.10/dist-packages (from torch>=1.8.1->torchmetrics) (3.2.1)\n",
            "Requirement already satisfied: jinja2 in /usr/local/lib/python3.10/dist-packages (from torch>=1.8.1->torchmetrics) (3.1.2)\n",
            "Requirement already satisfied: triton==2.1.0 in /usr/local/lib/python3.10/dist-packages (from torch>=1.8.1->torchmetrics) (2.1.0)\n",
            "Requirement already satisfied: python-dateutil>=2.8.1 in /usr/local/lib/python3.10/dist-packages (from pandas->datasets) (2.8.2)\n",
            "Requirement already satisfied: pytz>=2020.1 in /usr/local/lib/python3.10/dist-packages (from pandas->datasets) (2023.3.post1)\n",
            "Collecting smmap<6,>=3.0.1 (from gitdb<5,>=4.0.1->GitPython!=3.1.29,>=1.0.0->wandb)\n",
            "  Downloading smmap-5.0.1-py3-none-any.whl (24 kB)\n",
            "Requirement already satisfied: MarkupSafe>=2.0 in /usr/local/lib/python3.10/dist-packages (from jinja2->torch>=1.8.1->torchmetrics) (2.1.3)\n",
            "Requirement already satisfied: mpmath>=0.19 in /usr/local/lib/python3.10/dist-packages (from sympy->torch>=1.8.1->torchmetrics) (1.3.0)\n",
            "Installing collected packages: smmap, setproctitle, sentry-sdk, pyarrow-hotfix, lightning-utilities, docker-pycreds, dill, responses, multiprocess, gitdb, torchmetrics, GitPython, wandb, datasets, evaluate\n",
            "Successfully installed GitPython-3.1.40 datasets-2.15.0 dill-0.3.7 docker-pycreds-0.4.0 evaluate-0.4.1 gitdb-4.0.11 lightning-utilities-0.10.0 multiprocess-0.70.15 pyarrow-hotfix-0.6 responses-0.18.0 sentry-sdk-1.39.1 setproctitle-1.3.3 smmap-5.0.1 torchmetrics-1.2.1 wandb-0.16.1\n"
          ]
        }
      ]
    },
    {
      "cell_type": "markdown",
      "source": [
        "The main code is in [this](https://github.com/qasemii/IMLE-Annotator.git) github repository. We use colab to accelerate the experiment utilizing its GPUs. For the detailed implementation please refere to the source code in the given repo."
      ],
      "metadata": {
        "id": "2FYz0CCdVSz9"
      }
    },
    {
      "cell_type": "code",
      "execution_count": null,
      "metadata": {
        "collapsed": true,
        "id": "Jr6-HMBa-J5G",
        "colab": {
          "base_uri": "https://localhost:8080/"
        },
        "outputId": "88c4cfc9-c669-4ac0-d061-bf782f2fcd75"
      },
      "outputs": [
        {
          "output_type": "stream",
          "name": "stdout",
          "text": [
            "Cloning into 'IMLE-Annotator'...\n",
            "remote: Enumerating objects: 1146, done.\u001b[K\n",
            "remote: Counting objects: 100% (185/185), done.\u001b[K\n",
            "remote: Compressing objects: 100% (81/81), done.\u001b[K\n",
            "remote: Total 1146 (delta 104), reused 179 (delta 103), pack-reused 961\u001b[K\n",
            "Receiving objects: 100% (1146/1146), 101.82 MiB | 9.21 MiB/s, done.\n",
            "Resolving deltas: 100% (683/683), done.\n",
            "Updating files: 100% (44/44), done.\n",
            "/content/IMLE-Annotator\n"
          ]
        }
      ],
      "source": [
        "!git clone https://github.com/qasemii/IMLE-Annotator.git\n",
        "# !git restore .\n",
        "# !git pull origin\n",
        "\n",
        "%cd /content/IMLE-Annotator/"
      ]
    },
    {
      "cell_type": "markdown",
      "source": [
        "#### BeerAdvocate\n",
        "Downloading the `BeerAdvocate` dataset. The BeerAdvocate dataset consists of free-text reviews and ratings for 4 different aspects of beer: *appearance*, *aroma*, *palate*, and *taste*. Each sentence in the test set has annotations providing the words that best describe the various aspects. The training set has 80k reviews for the aspect APPEARANCE and 70k reviews for all other aspects. Since the original dataset did not provide separate validation and test sets, we compute 10 different evenly sized validation/test splits of the 10k held out set and compute mean and standard deviation over 10 models, each trained on one split. Subset precision was computed using a subset of 993 annotated reviews (`annotation.json`). We use pre-trained word embeddings. Prior work used non-standard neural networks for which an implementation is not available. We used the neural network from the L2X paper with 4 convolutional and one dense layer.\n"
      ],
      "metadata": {
        "id": "uGaVJjSkbPpU"
      }
    },
    {
      "cell_type": "code",
      "execution_count": null,
      "metadata": {
        "id": "cRykxNmdHoVh",
        "colab": {
          "base_uri": "https://localhost:8080/"
        },
        "collapsed": true,
        "outputId": "92a35f33-bef3-4118-8eef-ef4b670778c4"
      },
      "outputs": [
        {
          "output_type": "stream",
          "name": "stdout",
          "text": [
            "/content/IMLE-Annotator/data/BeerAdvocate\n",
            "--2023-12-18 15:10:30--  http://people.csail.mit.edu/taolei/beer/annotations.json\n",
            "Resolving people.csail.mit.edu (people.csail.mit.edu)... 128.30.2.133\n",
            "Connecting to people.csail.mit.edu (people.csail.mit.edu)|128.30.2.133|:80... connected.\n",
            "HTTP request sent, awaiting response... 200 OK\n",
            "Length: 2314369 (2.2M) [application/json]\n",
            "Saving to: ‘annotations.json’\n",
            "\n",
            "annotations.json    100%[===================>]   2.21M  7.62MB/s    in 0.3s    \n",
            "\n",
            "2023-12-18 15:10:31 (7.62 MB/s) - ‘annotations.json’ saved [2314369/2314369]\n",
            "\n",
            "--2023-12-18 15:10:31--  http://people.csail.mit.edu/taolei/beer/review+wiki.filtered.200.txt.gz\n",
            "Resolving people.csail.mit.edu (people.csail.mit.edu)... 128.30.2.133\n",
            "Connecting to people.csail.mit.edu (people.csail.mit.edu)|128.30.2.133|:80... connected.\n",
            "HTTP request sent, awaiting response... 200 OK\n",
            "Length: 100137768 (95M) [application/x-gzip]\n",
            "Saving to: ‘review+wiki.filtered.200.txt.gz’\n",
            "\n",
            "review+wiki.filtere 100%[===================>]  95.50M  18.9MB/s    in 6.2s    \n",
            "\n",
            "2023-12-18 15:10:37 (15.5 MB/s) - ‘review+wiki.filtered.200.txt.gz’ saved [100137768/100137768]\n",
            "\n",
            "--2023-12-18 15:10:37--  http://people.csail.mit.edu/taolei/beer/reviews.aspect0.heldout.txt.gz\n",
            "Resolving people.csail.mit.edu (people.csail.mit.edu)... 128.30.2.133\n",
            "Connecting to people.csail.mit.edu (people.csail.mit.edu)|128.30.2.133|:80... connected.\n",
            "HTTP request sent, awaiting response... 200 OK\n",
            "Length: 2680192 (2.6M) [application/x-gzip]\n",
            "Saving to: ‘reviews.aspect0.heldout.txt.gz’\n",
            "\n",
            "reviews.aspect0.hel 100%[===================>]   2.56M  5.13MB/s    in 0.5s    \n",
            "\n",
            "2023-12-18 15:10:38 (5.13 MB/s) - ‘reviews.aspect0.heldout.txt.gz’ saved [2680192/2680192]\n",
            "\n",
            "--2023-12-18 15:10:38--  http://people.csail.mit.edu/taolei/beer/reviews.aspect0.train.txt.gz\n",
            "Resolving people.csail.mit.edu (people.csail.mit.edu)... 128.30.2.133\n",
            "Connecting to people.csail.mit.edu (people.csail.mit.edu)|128.30.2.133|:80... connected.\n",
            "HTTP request sent, awaiting response... 200 OK\n",
            "Length: 21179982 (20M) [application/x-gzip]\n",
            "Saving to: ‘reviews.aspect0.train.txt.gz’\n",
            "\n",
            "reviews.aspect0.tra 100%[===================>]  20.20M  9.84MB/s    in 2.1s    \n",
            "\n",
            "2023-12-18 15:10:40 (9.84 MB/s) - ‘reviews.aspect0.train.txt.gz’ saved [21179982/21179982]\n",
            "\n",
            "--2023-12-18 15:10:40--  http://people.csail.mit.edu/taolei/beer/reviews.aspect1.heldout.txt.gz\n",
            "Resolving people.csail.mit.edu (people.csail.mit.edu)... 128.30.2.133\n",
            "Connecting to people.csail.mit.edu (people.csail.mit.edu)|128.30.2.133|:80... connected.\n",
            "HTTP request sent, awaiting response... 200 OK\n",
            "Length: 2664605 (2.5M) [application/x-gzip]\n",
            "Saving to: ‘reviews.aspect1.heldout.txt.gz’\n",
            "\n",
            "reviews.aspect1.hel 100%[===================>]   2.54M  6.58MB/s    in 0.4s    \n",
            "\n",
            "2023-12-18 15:10:40 (6.58 MB/s) - ‘reviews.aspect1.heldout.txt.gz’ saved [2664605/2664605]\n",
            "\n",
            "--2023-12-18 15:10:40--  http://people.csail.mit.edu/taolei/beer/reviews.aspect1.train.txt.gz\n",
            "Resolving people.csail.mit.edu (people.csail.mit.edu)... 128.30.2.133\n",
            "Connecting to people.csail.mit.edu (people.csail.mit.edu)|128.30.2.133|:80... connected.\n",
            "HTTP request sent, awaiting response... 200 OK\n",
            "Length: 18735895 (18M) [application/x-gzip]\n",
            "Saving to: ‘reviews.aspect1.train.txt.gz’\n",
            "\n",
            "reviews.aspect1.tra 100%[===================>]  17.87M  9.01MB/s    in 2.0s    \n",
            "\n",
            "2023-12-18 15:10:43 (9.01 MB/s) - ‘reviews.aspect1.train.txt.gz’ saved [18735895/18735895]\n",
            "\n",
            "--2023-12-18 15:10:43--  http://people.csail.mit.edu/taolei/beer/reviews.aspect2.heldout.txt.gz\n",
            "Resolving people.csail.mit.edu (people.csail.mit.edu)... 128.30.2.133\n",
            "Connecting to people.csail.mit.edu (people.csail.mit.edu)|128.30.2.133|:80... connected.\n",
            "HTTP request sent, awaiting response... 200 OK\n",
            "Length: 2718689 (2.6M) [application/x-gzip]\n",
            "Saving to: ‘reviews.aspect2.heldout.txt.gz’\n",
            "\n",
            "reviews.aspect2.hel 100%[===================>]   2.59M  1.30MB/s    in 2.0s    \n",
            "\n",
            "2023-12-18 15:10:45 (1.30 MB/s) - ‘reviews.aspect2.heldout.txt.gz’ saved [2718689/2718689]\n",
            "\n",
            "--2023-12-18 15:10:45--  http://people.csail.mit.edu/taolei/beer/reviews.aspect2.train.txt.gz\n",
            "Resolving people.csail.mit.edu (people.csail.mit.edu)... 128.30.2.133\n",
            "Connecting to people.csail.mit.edu (people.csail.mit.edu)|128.30.2.133|:80... connected.\n",
            "HTTP request sent, awaiting response... 200 OK\n",
            "Length: 19073265 (18M) [application/x-gzip]\n",
            "Saving to: ‘reviews.aspect2.train.txt.gz’\n",
            "\n",
            "reviews.aspect2.tra 100%[===================>]  18.19M  5.64MB/s    in 3.2s    \n",
            "\n",
            "2023-12-18 15:10:48 (5.64 MB/s) - ‘reviews.aspect2.train.txt.gz’ saved [19073265/19073265]\n",
            "\n",
            "--2023-12-18 15:10:48--  http://people.csail.mit.edu/taolei/beer/reviews.aspect3.heldout.txt.gz\n",
            "Resolving people.csail.mit.edu (people.csail.mit.edu)... 128.30.2.133\n",
            "Connecting to people.csail.mit.edu (people.csail.mit.edu)|128.30.2.133|:80... connected.\n",
            "HTTP request sent, awaiting response... 200 OK\n",
            "Length: 2604580 (2.5M) [application/x-gzip]\n",
            "Saving to: ‘reviews.aspect3.heldout.txt.gz’\n",
            "\n",
            "reviews.aspect3.hel 100%[===================>]   2.48M  5.35MB/s    in 0.5s    \n",
            "\n",
            "2023-12-18 15:10:49 (5.35 MB/s) - ‘reviews.aspect3.heldout.txt.gz’ saved [2604580/2604580]\n",
            "\n",
            "--2023-12-18 15:10:49--  http://people.csail.mit.edu/taolei/beer/reviews.aspect3.train.txt.gz\n",
            "Resolving people.csail.mit.edu (people.csail.mit.edu)... 128.30.2.133\n",
            "Connecting to people.csail.mit.edu (people.csail.mit.edu)|128.30.2.133|:80... connected.\n",
            "HTTP request sent, awaiting response... 200 OK\n",
            "Length: 18422344 (18M) [application/x-gzip]\n",
            "Saving to: ‘reviews.aspect3.train.txt.gz’\n",
            "\n",
            "reviews.aspect3.tra 100%[===================>]  17.57M  9.63MB/s    in 1.8s    \n",
            "\n",
            "2023-12-18 15:10:51 (9.63 MB/s) - ‘reviews.aspect3.train.txt.gz’ saved [18422344/18422344]\n",
            "\n",
            "/content/IMLE-Annotator\n"
          ]
        }
      ],
      "source": [
        "%cd /content/IMLE-Annotator/data/BeerAdvocate/\n",
        "\n",
        "!wget http://people.csail.mit.edu/taolei/beer/annotations.json\n",
        "!wget http://people.csail.mit.edu/taolei/beer/review+wiki.filtered.200.txt.gz\n",
        "# aspect 0\n",
        "!wget http://people.csail.mit.edu/taolei/beer/reviews.aspect0.heldout.txt.gz\n",
        "!wget http://people.csail.mit.edu/taolei/beer/reviews.aspect0.train.txt.gz\n",
        "# aspect 1\n",
        "!wget http://people.csail.mit.edu/taolei/beer/reviews.aspect1.heldout.txt.gz\n",
        "!wget http://people.csail.mit.edu/taolei/beer/reviews.aspect1.train.txt.gz\n",
        "# aspect 2\n",
        "!wget http://people.csail.mit.edu/taolei/beer/reviews.aspect2.heldout.txt.gz\n",
        "!wget http://people.csail.mit.edu/taolei/beer/reviews.aspect2.train.txt.gz\n",
        "# aspect 3\n",
        "!wget http://people.csail.mit.edu/taolei/beer/reviews.aspect3.heldout.txt.gz\n",
        "!wget http://people.csail.mit.edu/taolei/beer/reviews.aspect3.train.txt.gz\n",
        "\n",
        "# Unzip the files\n",
        "!gzip -d review+wiki.filtered.200.txt.gz\n",
        "!gzip -d reviews.aspect0.heldout.txt.gz\n",
        "!gzip -d reviews.aspect0.train.txt.gz\n",
        "!gzip -d reviews.aspect1.heldout.txt.gz\n",
        "!gzip -d reviews.aspect1.train.txt.gz\n",
        "!gzip -d reviews.aspect2.heldout.txt.gz\n",
        "!gzip -d reviews.aspect2.train.txt.gz\n",
        "!gzip -d reviews.aspect3.heldout.txt.gz\n",
        "!gzip -d reviews.aspect3.train.txt.gz\n",
        "\n",
        "%cd /content/IMLE-Annotator/"
      ]
    },
    {
      "cell_type": "markdown",
      "source": [
        "#### e-SNLI dataset\n",
        "The dataset for e-SNLI is already preprocessed and saved in the repository."
      ],
      "metadata": {
        "id": "Igq-i0xsba6P"
      }
    },
    {
      "cell_type": "markdown",
      "source": [
        "#### Word Embeddings for BeerAdvocate Dataset\n",
        "We need `glove.42B.300d` for tokenizing the ***e-SNLI*** dataset. We also use `nltk` embeddings. The ***BeerAdvocate*** has its own predefined tokens and embedding."
      ],
      "metadata": {
        "id": "HRghLMGRbH3j"
      }
    },
    {
      "cell_type": "code",
      "execution_count": null,
      "metadata": {
        "id": "DG4MpZE2PPSD",
        "colab": {
          "base_uri": "https://localhost:8080/"
        },
        "outputId": "36d90546-e1cb-40f6-c7bd-47fe2769cf5b",
        "collapsed": true
      },
      "outputs": [
        {
          "output_type": "stream",
          "name": "stdout",
          "text": [
            "/content/IMLE-Annotator/data/GloVe\n",
            "--2023-12-18 15:03:38--  https://nlp.stanford.edu/data/glove.42B.300d.zip\n",
            "Resolving nlp.stanford.edu (nlp.stanford.edu)... 171.64.67.140\n",
            "Connecting to nlp.stanford.edu (nlp.stanford.edu)|171.64.67.140|:443... connected.\n",
            "HTTP request sent, awaiting response... 301 Moved Permanently\n",
            "Location: https://downloads.cs.stanford.edu/nlp/data/glove.42B.300d.zip [following]\n",
            "--2023-12-18 15:03:38--  https://downloads.cs.stanford.edu/nlp/data/glove.42B.300d.zip\n",
            "Resolving downloads.cs.stanford.edu (downloads.cs.stanford.edu)... 171.64.64.22\n",
            "Connecting to downloads.cs.stanford.edu (downloads.cs.stanford.edu)|171.64.64.22|:443... connected.\n",
            "HTTP request sent, awaiting response... 200 OK\n",
            "Length: 1877800501 (1.7G) [application/zip]\n",
            "Saving to: ‘glove.42B.300d.zip’\n",
            "\n",
            "glove.42B.300d.zip  100%[===================>]   1.75G  5.00MB/s    in 5m 53s  \n",
            "\n",
            "2023-12-18 15:09:32 (5.07 MB/s) - ‘glove.42B.300d.zip’ saved [1877800501/1877800501]\n",
            "\n",
            "Archive:  glove.42B.300d.zip\n",
            "  inflating: glove.42B.300d.txt      \n",
            "/content/IMLE-Annotator\n"
          ]
        }
      ],
      "source": [
        "%cd /content/IMLE-Annotator/data/GloVe/\n",
        "\n",
        "!wget https://nlp.stanford.edu/data/glove.42B.300d.zip\n",
        "!unzip  glove.42B.300d.zip && rm glove.42B.300d.zip\n",
        "\n",
        "%cd /content/IMLE-Annotator/"
      ]
    },
    {
      "cell_type": "markdown",
      "source": [
        "#### Metrics\n",
        "We use `MSE` as training ciriteria for BeerAdvocate as the outputs are float number as the reviewers gave an score to each beer based on their reviews. We also show `Subset-Precision` for the rationales extracted by the model to have a sense about the their quality. `Subset-Precsion` evaluate the correlation of the human rationales (gold rationales) with machine rationales (extracted rationales)."
      ],
      "metadata": {
        "id": "faaIe4-XDZlC"
      }
    },
    {
      "cell_type": "markdown",
      "metadata": {
        "id": "wRqj2PJ2Sarw"
      },
      "source": [
        "### Rationlizing BeerAdvocate Reviews\n"
      ]
    },
    {
      "cell_type": "markdown",
      "source": [
        "These are commands used in to tune differnt configurations:\n",
        "\n",
        "    -a  beer aspect (0:, 1:, 2:, 3:)\n",
        "    -e  number of training epochs\n",
        "    -b  batch size\n",
        "    -k  kernel size\n",
        "    -H  hidden layer size\n",
        "    -m  maximum length of input\n",
        "    -K  number of token to be selected by i-mle\n",
        "    -r  number of reruns\n",
        "    -M  method for handling the discrete latent space (imle, aimle, sfe, etc.)\n",
        "\n",
        "The rest of parameters are offered by the writers in [I-MLE paper](https://arxiv.org/abs/2106.01798) so we leave them unchanged."
      ],
      "metadata": {
        "id": "9IgdzF8qEr_M"
      }
    },
    {
      "cell_type": "code",
      "execution_count": null,
      "metadata": {
        "colab": {
          "base_uri": "https://localhost:8080/"
        },
        "id": "uUl6MEt3SZbB",
        "outputId": "b7bbcff6-ecc8-470c-ef17-47320df00396"
      },
      "outputs": [
        {
          "output_type": "stream",
          "name": "stdout",
          "text": [
            "Hostname: 3b2e35a81c97\n",
            "Loading heldout data...\n",
            "Found 147759 word vectors.\n",
            "Creating model...\n",
            "Initialising the model ..\n",
            "Model:\n",
            "\tgumbel_selector.embeddings.weight\ttorch.Size([106479, 200])\t21295800\n",
            "\tgumbel_selector.first_layer.weight\ttorch.Size([100, 200, 3])\t60000\n",
            "\tgumbel_selector.first_layer.bias\ttorch.Size([100])\t100\n",
            "\tgumbel_selector.global_layer.weight\ttorch.Size([100, 100])\t10000\n",
            "\tgumbel_selector.global_layer.bias\ttorch.Size([100])\t100\n",
            "\tgumbel_selector.local_layer_1.weight\ttorch.Size([100, 100, 3])\t30000\n",
            "\tgumbel_selector.local_layer_1.bias\ttorch.Size([100])\t100\n",
            "\tgumbel_selector.local_layer_2.weight\ttorch.Size([100, 100, 3])\t30000\n",
            "\tgumbel_selector.local_layer_2.bias\ttorch.Size([100])\t100\n",
            "\tgumbel_selector.final_layer_1.weight\ttorch.Size([100, 200, 1])\t20000\n",
            "\tgumbel_selector.final_layer_1.bias\ttorch.Size([100])\t100\n",
            "\tgumbel_selector.final_layer_2.weight\ttorch.Size([1, 100, 1])\t100\n",
            "\tgumbel_selector.final_layer_2.bias\ttorch.Size([1])\t1\n",
            "\tprediction_model.embeddings.weight\ttorch.Size([106479, 200])\t21295800\n",
            "\tprediction_model.layer_1.weight\ttorch.Size([250, 200])\t50000\n",
            "\tprediction_model.layer_1.bias\ttorch.Size([250])\t250\n",
            "\tprediction_model.layer_2.weight\ttorch.Size([1, 250])\t250\n",
            "\tprediction_model.layer_2.bias\ttorch.Size([1])\t1\n",
            "Model modules:\n",
            "\tgumbel_selector\t21446401\n",
            "\tprediction_model\t21346301\n",
            "INFO:beer-cli.py:Epoch 1/10\tLoss 0.0419 ± 0.0131\n",
            "Saving new checkpoint -- new best validation MSE: 0.02971\n",
            "INFO:beer-cli.py:Epoch 2/10\tLoss 0.0304 ± 0.0039\n",
            "INFO:beer-cli.py:Epoch 3/10\tLoss 0.0297 ± 0.0041\n",
            "Saving new checkpoint -- new best validation MSE: 0.02940\n",
            "INFO:beer-cli.py:Epoch 4/10\tLoss 0.0309 ± 0.0041\n",
            "INFO:beer-cli.py:Epoch 5/10\tLoss 0.0298 ± 0.0042\n",
            "Saving new checkpoint -- new best validation MSE: 0.02799\n",
            "INFO:beer-cli.py:Epoch 6/10\tLoss 0.0296 ± 0.0040\n",
            "INFO:beer-cli.py:Epoch 7/10\tLoss 0.0295 ± 0.0041\n",
            "INFO:beer-cli.py:Epoch 8/10\tLoss 0.0294 ± 0.0039\n",
            "INFO:beer-cli.py:Epoch 9/10\tLoss 0.0308 ± 0.0044\n",
            "INFO:beer-cli.py:Epoch 10/10\tLoss 0.0283 ± 0.0040\n",
            "Saving new checkpoint -- new best validation MSE: 0.02740\n",
            "Training time is 144.66383600234985 ms\n",
            "Loading checkpoint at models/model.pt ..\n",
            "[0] Validation MSE: 2.73979\n",
            "[0] Test MSE: 2.77898\n",
            "[0] Subset precision: 65.39235\n",
            "Final Subset Precision List: 65.39235 ± 0.00000\n",
            "Final Validation MSE List: 2.73979 ± 0.00000\n",
            "Final Test MSE List: 2.77898 ± 0.00000\n",
            "Experiment completed.\n"
          ]
        }
      ],
      "source": [
        "!WANDB_MODE=disabled python3 beer-cli.py \\\n",
        "-a 0 -e 10 -b 128 -k 3 -H 250 -m 350 -K 10 -r 1 -M imle \\\n",
        "--imle-samples 1 --imle-noise gumbel --imle-lambda 1000.0\\\n",
        "--imle-input-temperature 1.0 --imle-output-temperature 1.0"
      ]
    },
    {
      "cell_type": "markdown",
      "source": [
        "You can visualize the extracted retionales following the instructions below:\n",
        "\n",
        "- Create an empty project in Overleaf\n",
        "- Copy the code below in the Overleaf bank project\n",
        "- Upload the .txt output file in the project folder\n",
        "- Simply replace `<OUTPUT_FILE>` with the file you want to visualize\n",
        "\n",
        "The output file is large and may take some minutes for Overleaf to compile. You can also open the .txt file and copy a desired portion and replace it with `\\input{<OUTPUT_FILE>}`.\n",
        "    \n",
        "    \n",
        "    \\documentclass{article}\n",
        "    \\usepackage{color,soul}\n",
        "    \\usepackage[dvipsnames]{xcolor}\n",
        "\n",
        "    \\title{Weekly Meeting Notes}\n",
        "    \\date{}\n",
        "\n",
        "    % custom commands\n",
        "    \\newcommand{\\cmark}{\\ding{52}}%\n",
        "    \\newcommand{\\xmark}{\\ding{56}}%\n",
        "    \\newcommand{\\arrow}{\\ding{212}}%\n",
        "    \\newcommand{\\hlc}[2][yellow]{{\n",
        "      \\colorlet{foo}{#1}\n",
        "      \\sethlcolor{foo}\n",
        "      \\hl{#2}\n",
        "    }}\n",
        "\n",
        "    \\begin{document}\n",
        "    \\maketitle\n",
        "\n",
        "    \\subsection*{Color Guide}\\\\\n",
        "    \\hlc[cyan!30]{Blue}: Human selected (ground truth)\\\\\n",
        "    \\hlc[red!60]{Red}: Machine Selected\\\\\n",
        "    \\hlc[purple!30]{Purple}: Human/Machine Selected\n",
        "    \\subsection*{Sign Guide}\\\\\n",
        "    \\cmark: True predicted label\\\\\n",
        "    \\xmark: Wrong predicted label\\\\\n",
        "    \\rule{\\textwidth}{1pt}\n",
        "\n",
        "    \\input{<OUTPUT_FILE>}\n",
        "\n",
        "    \\end{document}\n",
        "\n",
        "You should see something similar to the following image. This example shows rationales selected only by human (blue), only by machine (red, and we don't want this) and rationales selected by both machines and humans (purple). Also the gold true score and predicted score has been brought at the end of the review for task performance comprehension.\n",
        "\n",
        "<img src=\"https://github.com/qasemii/imle-annotator/blob/main/images/BeerAdvocate-Appearance-K10.png?raw=true\" width=1000>\n"
      ],
      "metadata": {
        "id": "MRc0OfRIQWce"
      }
    },
    {
      "cell_type": "markdown",
      "metadata": {
        "id": "ioUO3kzl-AzW"
      },
      "source": [
        "### Rationalizing e-SNLI premise/hypothesis pairs"
      ]
    },
    {
      "cell_type": "code",
      "execution_count": null,
      "metadata": {
        "colab": {
          "base_uri": "https://localhost:8080/"
        },
        "id": "FntrfW5x_X1d",
        "outputId": "a016d102-34b4-43e3-af46-9da233475019"
      },
      "outputs": [
        {
          "output_type": "stream",
          "name": "stdout",
          "text": [
            "Hostname: 2e4c7c3f0061\n",
            "Device: cuda\n",
            "Loading Train Data...\n",
            "Preparing Word IDs\n",
            "Loading Validation Data...\n",
            "Loading Test Data...\n",
            "Loading GloVe ...\n",
            "Creating model...\n",
            "Initialising the model ..\n",
            "Model:\n",
            "\tgumbel_selector.embeddings.weight\ttorch.Size([31797, 300])\t9539100\n",
            "\tgumbel_selector.first_layer.weight\ttorch.Size([100, 300, 3])\t90000\n",
            "\tgumbel_selector.first_layer.bias\ttorch.Size([100])\t100\n",
            "\tgumbel_selector.global_layer.weight\ttorch.Size([100, 100])\t10000\n",
            "\tgumbel_selector.global_layer.bias\ttorch.Size([100])\t100\n",
            "\tgumbel_selector.local_layer_1.weight\ttorch.Size([100, 100, 3])\t30000\n",
            "\tgumbel_selector.local_layer_1.bias\ttorch.Size([100])\t100\n",
            "\tgumbel_selector.local_layer_2.weight\ttorch.Size([100, 100, 3])\t30000\n",
            "\tgumbel_selector.local_layer_2.bias\ttorch.Size([100])\t100\n",
            "\tgumbel_selector.final_layer_1.weight\ttorch.Size([100, 200, 1])\t20000\n",
            "\tgumbel_selector.final_layer_1.bias\ttorch.Size([100])\t100\n",
            "\tgumbel_selector.final_layer_2.weight\ttorch.Size([1, 100, 1])\t100\n",
            "\tgumbel_selector.final_layer_2.bias\ttorch.Size([1])\t1\n",
            "\tprediction_model.embeddings.weight\ttorch.Size([31797, 300])\t9539100\n",
            "\tprediction_model.layer_1.weight\ttorch.Size([250, 300])\t75000\n",
            "\tprediction_model.layer_1.bias\ttorch.Size([250])\t250\n",
            "\tprediction_model.layer_2.weight\ttorch.Size([3, 250])\t750\n",
            "\tprediction_model.layer_2.bias\ttorch.Size([3])\t3\n",
            "Model modules:\n",
            "\tgumbel_selector\t9719701\n",
            "\tprediction_model\t9615103\n",
            "/usr/local/lib/python3.10/dist-packages/torch/nn/modules/module.py:1518: UserWarning: Implicit dimension choice for softmax has been deprecated. Change the call to include dim=X as an argument.\n",
            "  return self._call_impl(*args, **kwargs)\n",
            "INFO:esnli-cli.py:Epoch 1/10\tLoss 1.0333 ± 0.0296\n",
            "Saving new checkpoint -- new best validation Loss: 0.99519 - Accuracy: 0.52434\n",
            "INFO:esnli-cli.py:Epoch 2/10\tLoss 1.0031 ± 0.0219\n",
            "Saving new checkpoint -- new best validation Loss: 0.98096 - Accuracy: 0.53969\n",
            "INFO:esnli-cli.py:Epoch 3/10\tLoss 0.9891 ± 0.0233\n",
            "Saving new checkpoint -- new best validation Loss: 0.91603 - Accuracy: 0.61723\n",
            "INFO:esnli-cli.py:Epoch 4/10\tLoss 0.9771 ± 0.0243\n",
            "INFO:esnli-cli.py:Epoch 5/10\tLoss 0.9680 ± 0.0248\n",
            "INFO:esnli-cli.py:Epoch 6/10\tLoss 0.9604 ± 0.0246\n",
            "INFO:esnli-cli.py:Epoch 7/10\tLoss 0.9519 ± 0.0246\n",
            "INFO:esnli-cli.py:Epoch 8/10\tLoss 0.9436 ± 0.0257\n",
            "Saving new checkpoint -- new best validation Loss: 0.91522 - Accuracy: 0.62859\n",
            "INFO:esnli-cli.py:Epoch 9/10\tLoss 0.9398 ± 0.0262\n",
            "INFO:esnli-cli.py:Epoch 10/10\tLoss 0.9316 ± 0.0262\n",
            "Saving new checkpoint -- new best validation Loss: 0.89224 - Accuracy: 0.65024\n",
            "[0] Training time is 265.197580575943 ms\n",
            "Loading checkpoint at models/model.pt ..\n",
            "[0] Validation Loss: 0.89224\n",
            "[0] Test Loss: 0.90101\n",
            "[0] Validation Accuracy: 0.65024\n",
            "[0] Test Accuracy: 0.63925\n",
            "[0] Subset precision: %32.64011\n",
            "Final Subset Precision List: 32.64011 ± 0.00000\n",
            "Final Validation Loss List: 0.89224 ± 0.00000\n",
            "Final Test Loss List: 0.90101 ± 0.00000\n",
            "Final Validation Accuracy List: 0.65024 ± 0.00000\n",
            "Final Test Accuracy List: 0.63925 ± 0.00000\n",
            "Experiment completed\n",
            "-------------------------\n"
          ]
        }
      ],
      "source": [
        "!WANDB_MODE=disabled python3 esnli-cli.py\\\n",
        "-e 10 -b 256 -k 3 -H 250 -m 150 -K 3 -r 1 -M imle --highlight False\\\n",
        "--imle-samples 1 --imle-noise gumbel --imle-lambda 1000.0\\\n",
        "--imle-input-temperature 1.0 --imle-output-temperature 1.0"
      ]
    },
    {
      "cell_type": "markdown",
      "source": [
        "An output instance where the model predict the label right. Note that premise and hypothesis are merged together and passed to the model as a single input.\n",
        "\n",
        "<img src=\"https://github.com/qasemii/imle-annotator/blob/main/images/eSNLI-K3.png?raw=true\" width=1000>"
      ],
      "metadata": {
        "id": "W0_TgdYSP3Qx"
      }
    },
    {
      "cell_type": "markdown",
      "metadata": {
        "id": "26504h-QBAPo"
      },
      "source": [
        "### Bert-to-Bert Model for BeerAdvocate Rationaliziation"
      ]
    },
    {
      "cell_type": "markdown",
      "source": [
        "One challenge in designing the pipeline using BERT transformers was that BERT uses its own tokenizer. Consider the following example:\n",
        "\n",
        "    'EU rejects German call to boycott British lamb .'\n",
        "\n",
        "Using a pre-trained bert tokenizer will return the following:\n",
        "\n",
        "    ['[CLS]', 'EU', 'rejects', 'German', 'call', 'to', 'boycott', 'British', 'la', '##mb', '.', '[SEP]']\n",
        "\n",
        "\n",
        "As we can see, the tokenizer added the special tokens used by the model ([CLS] at the beginning and [SEP] at the end) and left most of the words untouched. The word lamb, however, was tokenized into two subwords, la and ##mb. This introduces a mismatch between our inputs and the gold rationles: the list of gold rationales has only 9 elements, whereas our input now has 12 tokens. Accounting for the special tokens is easy (we know they are at the beginning and the end), but we also need to make sure we align all the labels with the proper words.\n",
        "\n",
        "To solve this issue we refer to a task called \"***Token Classification***\" (see [this](https://huggingface.co/learn/nlp-course/chapter7/2) for more detail) where the model task is to encompass any problem that can be formulated as “attributing a label to each token in a sentence,” such as:\n",
        "\n",
        "- **Named entity recognition (NER)**: Find the entities (such as persons, locations, or organizations) in a sentence. This can be formulated as attributing a label to each token by having one class per entity and one class for “no entity.”\n",
        "\n",
        "- **Part-of-speech tagging (POS)**: Mark each word in a sentence as corresponding to a particular part of speech (such as noun, verb, adjective, etc.).\n",
        "\n",
        "- **Chunking**: Find the tokens that belong to the same entity. This task (which can be combined with POS or NER) can be formulated as attributing one label (usually B-) to any tokens that are at the beginning of a chunk, another label (usually I-) to tokens that are inside a chunk, and a third label (usually O) to tokens that don’t belong to any chunk.\n",
        "\n",
        "As you can see in the following, the tokenized input ids would be as bellow:\n",
        "\n",
        "    [None, 0, 1, 2, 3, 4, 5, 6, 7, 7, 8, None]\n",
        "\n",
        "So we need to modify the tokens label such that they align with the input format that we get from BERT. In our project, `align_labels_with_tokens` is responsible for doing so and the output would be similar to the following:\n",
        "\n",
        "Before aligning:\n",
        "\n",
        "    [3, 0, 7, 0, 0, 0, 7, 0, 0]\n",
        "\n",
        "After aligning:\n",
        "    \n",
        "    [-100, 3, 0, 7, 0, 0, 0, 7, 0, 0, 0, -100]\n",
        "\n",
        "The only difference here in our project is that in our project we only have two classes for our tokens, wether they are rationales or not. Considering this, we can now go on and train our Bert-to-Bert model. Further, `kerne size (-k)` and `hidden layer (-H)` are not required in this setting. Instead, the following options are added:\n",
        "\n",
        "    -B  transformer checkpoint or name *default is bert-mini from HuggingFace\n"
      ],
      "metadata": {
        "id": "w2K7vK5_UEHm"
      }
    },
    {
      "cell_type": "markdown",
      "source": [
        "Since we are training two bert models without the use of HuggingFace trainer, it would take a long time to be done. In order to be able to train faster, we used just the data from `annotations.json` (which is much smaller than the main dataset) and devided it into train, validation and test set. So the comparison between Bert-to-Bert model and the baseline model that we saw earlier would not make sense. However you can simply modify the code to (by uncommenting the data section in `beer-bert.py`)"
      ],
      "metadata": {
        "id": "1lzKqlRdYZeu"
      }
    },
    {
      "cell_type": "code",
      "execution_count": null,
      "metadata": {
        "colab": {
          "base_uri": "https://localhost:8080/"
        },
        "id": "ePqzkz0zBDaI",
        "outputId": "7dc79922-0209-4979-9c28-9cd996f3980f"
      },
      "outputs": [
        {
          "output_type": "stream",
          "name": "stdout",
          "text": [
            "2023-12-18 15:13:55.058309: E external/local_xla/xla/stream_executor/cuda/cuda_dnn.cc:9261] Unable to register cuDNN factory: Attempting to register factory for plugin cuDNN when one has already been registered\n",
            "2023-12-18 15:13:55.058418: E external/local_xla/xla/stream_executor/cuda/cuda_fft.cc:607] Unable to register cuFFT factory: Attempting to register factory for plugin cuFFT when one has already been registered\n",
            "2023-12-18 15:13:55.179823: E external/local_xla/xla/stream_executor/cuda/cuda_blas.cc:1515] Unable to register cuBLAS factory: Attempting to register factory for plugin cuBLAS when one has already been registered\n",
            "2023-12-18 15:13:56.800080: W tensorflow/compiler/tf2tensorrt/utils/py_utils.cc:38] TF-TRT Warning: Could not find TensorRT\n",
            "Hostname: 3b2e35a81c97\n",
            "config.json: 100% 286/286 [00:00<00:00, 1.54MB/s]\n",
            "vocab.txt: 100% 232k/232k [00:00<00:00, 5.54MB/s]\n",
            "Tokenizing the input ...\n",
            "Running tokenizer on dataset: 100% 894/894 [00:01<00:00, 838.52 examples/s]\n",
            "Running tokenizer on dataset: 100% 50/50 [00:00<00:00, 596.93 examples/s]\n",
            "Running tokenizer on dataset: 100% 50/50 [00:00<00:00, 613.61 examples/s]\n",
            "Creating model...\n",
            "pytorch_model.bin: 100% 45.1M/45.1M [00:00<00:00, 131MB/s]\n",
            "Some weights of BertForTokenClassification were not initialized from the model checkpoint at prajjwal1/bert-mini and are newly initialized: ['classifier.bias', 'classifier.weight']\n",
            "You should probably TRAIN this model on a down-stream task to be able to use it for predictions and inference.\n",
            "Downloading builder script: 100% 4.55k/4.55k [00:00<00:00, 15.6MB/s]\n",
            "Training Process ...\n",
            "You're using a BertTokenizerFast tokenizer. Please note that with a fast tokenizer, using the `__call__` method is faster than using a method to encode the text followed by a call to the `pad` method to get a padded encoding.\n",
            "Epoch 1/10\tIteration 1\tLoss value: 0.1112\n",
            "Epoch 1/10\tIteration 2\tLoss value: 0.1073\n",
            "Epoch 1/10\tIteration 3\tLoss value: 0.0901\n",
            "Epoch 1/10\tIteration 4\tLoss value: 0.0710\n",
            "Epoch 1/10\tIteration 5\tLoss value: 0.0768\n",
            "Epoch 1/10\tIteration 6\tLoss value: 0.0709\n",
            "Epoch 1/10\tIteration 7\tLoss value: 0.0738\n",
            "Epoch 1/10\tLoss 0.0859 ± 0.0160\n",
            "Saving new checkpoint -- new best validation MSE: 0.05945\n",
            "Epoch 2/10\tIteration 1\tLoss value: 0.0701\n",
            "Epoch 2/10\tIteration 2\tLoss value: 0.0556\n",
            "Epoch 2/10\tIteration 3\tLoss value: 0.0489\n",
            "Epoch 2/10\tIteration 4\tLoss value: 0.0414\n",
            "Epoch 2/10\tIteration 5\tLoss value: 0.0444\n",
            "Epoch 2/10\tIteration 6\tLoss value: 0.0379\n",
            "Epoch 2/10\tIteration 7\tLoss value: 0.0379\n",
            "Epoch 2/10\tLoss 0.0480 ± 0.0108\n",
            "Saving new checkpoint -- new best validation MSE: 0.04004\n",
            "Epoch 3/10\tIteration 1\tLoss value: 0.0375\n",
            "Epoch 3/10\tIteration 2\tLoss value: 0.0410\n",
            "Epoch 3/10\tIteration 3\tLoss value: 0.0261\n",
            "Epoch 3/10\tIteration 4\tLoss value: 0.0289\n",
            "Epoch 3/10\tIteration 5\tLoss value: 0.0266\n",
            "Epoch 3/10\tIteration 6\tLoss value: 0.0272\n",
            "Epoch 3/10\tIteration 7\tLoss value: 0.0249\n",
            "Epoch 3/10\tLoss 0.0303 ± 0.0058\n",
            "Saving new checkpoint -- new best validation MSE: 0.02731\n",
            "Epoch 4/10\tIteration 1\tLoss value: 0.0203\n",
            "Epoch 4/10\tIteration 2\tLoss value: 0.0245\n",
            "Epoch 4/10\tIteration 3\tLoss value: 0.0183\n",
            "Epoch 4/10\tIteration 4\tLoss value: 0.0265\n",
            "Epoch 4/10\tIteration 5\tLoss value: 0.0296\n",
            "Epoch 4/10\tIteration 6\tLoss value: 0.0199\n",
            "Epoch 4/10\tIteration 7\tLoss value: 0.0263\n",
            "Epoch 4/10\tLoss 0.0236 ± 0.0039\n",
            "Saving new checkpoint -- new best validation MSE: 0.02378\n",
            "Epoch 5/10\tIteration 1\tLoss value: 0.0267\n",
            "Epoch 5/10\tIteration 2\tLoss value: 0.0226\n",
            "Epoch 5/10\tIteration 3\tLoss value: 0.0194\n",
            "Epoch 5/10\tIteration 4\tLoss value: 0.0296\n",
            "Epoch 5/10\tIteration 5\tLoss value: 0.0342\n",
            "Epoch 5/10\tIteration 6\tLoss value: 0.0198\n",
            "Epoch 5/10\tIteration 7\tLoss value: 0.0258\n",
            "Epoch 5/10\tLoss 0.0254 ± 0.0049\n",
            "Epoch 6/10\tIteration 1\tLoss value: 0.0256\n",
            "Epoch 6/10\tIteration 2\tLoss value: 0.0214\n",
            "Epoch 6/10\tIteration 3\tLoss value: 0.0256\n",
            "Epoch 6/10\tIteration 4\tLoss value: 0.0170\n",
            "Epoch 6/10\tIteration 5\tLoss value: 0.0205\n",
            "Epoch 6/10\tIteration 6\tLoss value: 0.0205\n",
            "Epoch 6/10\tIteration 7\tLoss value: 0.0207\n",
            "Epoch 6/10\tLoss 0.0216 ± 0.0028\n",
            "Epoch 7/10\tIteration 1\tLoss value: 0.0261\n",
            "Epoch 7/10\tIteration 2\tLoss value: 0.0204\n",
            "Epoch 7/10\tIteration 3\tLoss value: 0.0195\n",
            "Epoch 7/10\tIteration 4\tLoss value: 0.0252\n",
            "Epoch 7/10\tIteration 5\tLoss value: 0.0207\n",
            "Epoch 7/10\tIteration 6\tLoss value: 0.0203\n",
            "Epoch 7/10\tIteration 7\tLoss value: 0.0240\n",
            "Epoch 7/10\tLoss 0.0223 ± 0.0025\n",
            "Saving new checkpoint -- new best validation MSE: 0.02236\n",
            "Epoch 8/10\tIteration 1\tLoss value: 0.0175\n",
            "Epoch 8/10\tIteration 2\tLoss value: 0.0200\n",
            "Epoch 8/10\tIteration 3\tLoss value: 0.0194\n",
            "Epoch 8/10\tIteration 4\tLoss value: 0.0181\n",
            "Epoch 8/10\tIteration 5\tLoss value: 0.0248\n",
            "Epoch 8/10\tIteration 6\tLoss value: 0.0234\n",
            "Epoch 8/10\tIteration 7\tLoss value: 0.0255\n",
            "Epoch 8/10\tLoss 0.0212 ± 0.0030\n",
            "Epoch 9/10\tIteration 1\tLoss value: 0.0166\n",
            "Epoch 9/10\tIteration 2\tLoss value: 0.0196\n",
            "Epoch 9/10\tIteration 3\tLoss value: 0.0272\n",
            "Epoch 9/10\tIteration 4\tLoss value: 0.0251\n",
            "Epoch 9/10\tIteration 5\tLoss value: 0.0190\n",
            "Epoch 9/10\tIteration 6\tLoss value: 0.0173\n",
            "Epoch 9/10\tIteration 7\tLoss value: 0.0234\n",
            "Epoch 9/10\tLoss 0.0212 ± 0.0038\n",
            "Epoch 10/10\tIteration 1\tLoss value: 0.0214\n",
            "Epoch 10/10\tIteration 2\tLoss value: 0.0256\n",
            "Epoch 10/10\tIteration 3\tLoss value: 0.0200\n",
            "Epoch 10/10\tIteration 4\tLoss value: 0.0214\n",
            "Epoch 10/10\tIteration 5\tLoss value: 0.0213\n",
            "Epoch 10/10\tIteration 6\tLoss value: 0.0145\n",
            "Epoch 10/10\tIteration 7\tLoss value: 0.0227\n",
            "Epoch 10/10\tLoss 0.0210 ± 0.0031\n",
            "Saving new checkpoint -- new best validation MSE: 0.02124\n",
            "Loading checkpoint at models/model.pt ..\n",
            "[0] Validation MSE: 0.02401\n",
            "[0] Test MSE: 0.02701\n",
            "Final Validation MSE List: 0.02401 ± 0.00000\n",
            "Final Test MSE List: 0.02701 ± 0.00000\n",
            "Experiment completed.\n"
          ]
        }
      ],
      "source": [
        "!WANDB_MODE=disabled python3 beer-bert.py \\\n",
        "-a 0 -e 10 -b 128 -m 350 -K 10 -r 1 -M imle -B prajjwal1/bert-mini\\\n",
        "--imle-samples 1 --imle-noise gumbel --imle-lambda 1000.0\\\n",
        "--imle-input-temperature 1.0 --imle-output-temperature 1.0"
      ]
    },
    {
      "cell_type": "markdown",
      "source": [
        "####Some statistics"
      ],
      "metadata": {
        "id": "3O73KkWPTdB0"
      }
    },
    {
      "cell_type": "code",
      "execution_count": null,
      "metadata": {
        "id": "ds3VBioXpDVF"
      },
      "outputs": [],
      "source": [
        "import numpy as np\n",
        "from collections import Counter\n",
        "import matplotlib.pyplot as plt\n",
        "import seaborn as sns\n",
        "import pickle\n",
        "import pandas as pd\n",
        "from wordcloud import WordCloud\n",
        "\n",
        "\n",
        "def show_stats(path, label='contradiction'):\n",
        "    with open(path, 'rb') as file:\n",
        "          stats = pickle.load(file)\n",
        "\n",
        "    data = stats[label]\n",
        "\n",
        "    token = np.array(list(Counter(data).keys())) # equals to list(set(words))\n",
        "    count = np.array(list(Counter(data).values())) # counts the elements' frequency\n",
        "\n",
        "    sorted_idx = np.flip(np.argsort(count))\n",
        "\n",
        "    sorted_token = token[sorted_idx]\n",
        "    sorted_count = count[sorted_idx]\n",
        "\n",
        "    df = pd.DataFrame({'Token': sorted_token, 'Count': sorted_count})\n",
        "    df.drop(index=0)\n",
        "    print(df.head())\n",
        "\n",
        "\n",
        "\n",
        "def plot_stats(path, label='contradiction', max_words = 50):\n",
        "    with open(path, 'rb') as file:\n",
        "      stats = pickle.load(file)\n",
        "\n",
        "    data = stats[label]\n",
        "\n",
        "    token = np.array(list(Counter(data).keys())) # equals to list(set(words))\n",
        "    count = np.array(list(Counter(data).values())) # counts the elements' frequency\n",
        "\n",
        "    sorted_idx = np.flip(np.argsort(count))\n",
        "\n",
        "    sorted_token = token[sorted_idx]\n",
        "    sorted_count = count[sorted_idx]\n",
        "\n",
        "    # creating the bar plot\n",
        "    plt.figure(figsize=(20, 8))\n",
        "    plt.bar(sorted_token[:max_words], sorted_count[:max_words], color ='maroon', width = 0.4)\n",
        "\n",
        "\n",
        "\n",
        "def plot_wordcloud(path, label='contradiction', max_words = 50):\n",
        "    with open(path, 'rb') as file:\n",
        "          stats = pickle.load(file)\n",
        "\n",
        "    data = stats[label]\n",
        "\n",
        "    token = np.array(list(Counter(data).keys())) # equals to list(set(words))\n",
        "    count = np.array(list(Counter(data).values())) # counts the elements' frequency\n",
        "\n",
        "    count_dict = {k: v for k,v in zip(token, count)}\n",
        "\n",
        "    # Generate a word cloud image\n",
        "    wordcloud = WordCloud(relative_scaling=0.5 , background_color=\"black\",\n",
        "                          max_words=max_words).generate_from_frequencies(count_dict)\n",
        "\n",
        "    # Display the generated image:\n",
        "    import matplotlib.pyplot as plt\n",
        "    plt.imshow(wordcloud, interpolation='bilinear')\n",
        "    plt.axis(\"off\")\n",
        "    plt.show()\n",
        "\n"
      ]
    },
    {
      "cell_type": "code",
      "execution_count": null,
      "metadata": {
        "id": "zN7x0VXb_v41"
      },
      "outputs": [],
      "source": [
        "PATH = 'esnli_statistics_K3.pkl'"
      ]
    },
    {
      "cell_type": "markdown",
      "source": [
        "Now we investigate the rationales distribution for the `e-SNLI` dataset just when the model predict the output label to be '**contradiction**'."
      ],
      "metadata": {
        "id": "cfylrwjlVBvU"
      }
    },
    {
      "cell_type": "code",
      "execution_count": null,
      "metadata": {
        "id": "RAhMv7r5E58c",
        "colab": {
          "base_uri": "https://localhost:8080/"
        },
        "outputId": "b8107888-5e22-432d-fb44-b1a80edc5281"
      },
      "outputs": [
        {
          "output_type": "stream",
          "name": "stdout",
          "text": [
            "     Token  Count\n",
            "0        .   5509\n",
            "1      man    624\n",
            "2       to    616\n",
            "3  sitting    616\n",
            "4        a    586\n"
          ]
        }
      ],
      "source": [
        "# Now we visualize\n",
        "show_stats(PATH, label='contradiction')"
      ]
    },
    {
      "cell_type": "markdown",
      "source": [
        "As you can see, the most selected token is \" . \" which at the beginning may seem weird. However, we can interpret this choice as model understaning of difference between `premise` and `hypothesis`. Since we have merged these two sentence and created a single sentences to feed to the model, it is one of the possible way to look at it."
      ],
      "metadata": {
        "id": "OPN6CCbBT0bb"
      }
    },
    {
      "cell_type": "code",
      "execution_count": null,
      "metadata": {
        "id": "uaZASXkpD5KX",
        "colab": {
          "base_uri": "https://localhost:8080/",
          "height": 389
        },
        "outputId": "02d24361-2810-44bc-e450-a808661e4736"
      },
      "outputs": [
        {
          "output_type": "display_data",
          "data": {
            "text/plain": [
              "<Figure size 2000x800 with 1 Axes>"
            ],
            "image/png": "[encoded data removed]"
          },
          "metadata": {}
        }
      ],
      "source": [
        "plot_stats(PATH, label='contradiction', max_words = 20)"
      ]
    },
    {
      "cell_type": "code",
      "execution_count": null,
      "metadata": {
        "id": "Hk0xuR-U9y7c",
        "colab": {
          "base_uri": "https://localhost:8080/",
          "height": 285
        },
        "outputId": "c64f4168-3927-473e-9e5d-692bd96a6daa"
      },
      "outputs": [
        {
          "output_type": "display_data",
          "data": {
            "text/plain": [
              "<Figure size 640x480 with 1 Axes>"
            ],
            "image/png": "[encoded data removed]"
          },
          "metadata": {}
        }
      ],
      "source": [
        "plot_wordcloud(PATH, label='contradiction', max_words = 100)"
      ]
    },
    {
      "cell_type": "markdown",
      "source": [
        "The following figure shows an example of rationales only selected by human (blue), rationales only selected by machine (red), and rationales selected by both (purple). We consider human rationales as ground truth for machine rationales so we want the machine to be as close as possible to those without affecting the output task performance very much (NLI, SA, Classification, etc.)\n",
        "\n",
        "<img src=\"https://github.com/qasemii/imle-annotator/blob/main/images/BeerAvocate-Aroma-K5.png?raw=true\" width=1000>\n",
        "\n"
      ],
      "metadata": {
        "id": "Q0lnjTbkjwJZ"
      }
    },
    {
      "cell_type": "markdown",
      "source": [
        "## Conclusion\n",
        "\n",
        "In the model architecture that we proposed, by increasing the value of ***k***, the number of tokens passed from rationale extractor to task model would increase and hence more inforamation and as a result better task performance. However, this may reduce the `Subset Precision` which computes the alignment between human and machine. So the value of ***k*** should be tuned as hyperparamer.\n",
        "\n",
        "Also we noticed that the rationales extracted by human does not make sense for human all the time. For example as previously discussed the most selected token for \"*contradiction*\" label is \" . \"\n",
        "\n",
        "This means the models rely on spurious correlation and statistical patterns which can cause poor performance on out-of-distribution dataset in future analysis.\n",
        "\n"
      ],
      "metadata": {
        "id": "sorTXBBntV2b"
      }
    },
    {
      "cell_type": "markdown",
      "source": [
        "#Future Works\n",
        "\n",
        "- We didn't try other methods for handling discrete latent space distribution (STE, Adaptive I-MLE, etc.).\n",
        "\n",
        "- We tried to penalized the model for the misalignment of machine with human rationales which caused the task performance to drop a lot. However, we didn't investigate the solution.\n",
        "\n",
        "- We didn't try grid search for hyperparameter tuning since it was expensive.\n",
        "\n",
        "- We can use more intelligent strategy of selecting top-k tokens. Since the number of highlights in each instance is not fixed, using a fixed value of top-k for all instances is not very smart. (e.g. we could use top-k%)"
      ],
      "metadata": {
        "id": "owLI8Ah3Y_q1"
      }
    }
  ],
  "metadata": {
    "accelerator": "GPU",
    "colab": {
      "machine_shape": "hm",
      "provenance": [],
      "gpuType": "T4",
      "gpuClass": "premium"
    },
    "gpuClass": "premium",
    "kernelspec": {
      "display_name": "Python 3",
      "name": "python3"
    },
    "language_info": {
      "name": "python"
    }
  },
  "nbformat": 4,
  "nbformat_minor": 0
}